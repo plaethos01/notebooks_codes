{
  "nbformat": 4,
  "nbformat_minor": 0,
  "metadata": {
    "colab": {
      "provenance": [],
      "authorship_tag": "ABX9TyMWc8MJlQd07tbOjX/eODiB",
      "include_colab_link": true
    },
    "kernelspec": {
      "name": "python3",
      "display_name": "Python 3"
    },
    "language_info": {
      "name": "python"
    }
  },
  "cells": [
    {
      "cell_type": "markdown",
      "metadata": {
        "id": "view-in-github",
        "colab_type": "text"
      },
      "source": [
        "<a href=\"https://colab.research.google.com/github/plaethos01/notebooks_codes/blob/main/cyberBullying.ipynb\" target=\"_parent\"><img src=\"https://colab.research.google.com/assets/colab-badge.svg\" alt=\"Open In Colab\"/></a>"
      ]
    },
    {
      "cell_type": "code",
      "execution_count": 1,
      "metadata": {
        "id": "GrxVCXAC-wyh"
      },
      "outputs": [],
      "source": [
        "import pandas as pd\n",
        "from sklearn.model_selection import train_test_split\n",
        "from sklearn.feature_extraction.text import TfidfVectorizer\n",
        "from sklearn.svm import SVC\n",
        "from sklearn.metrics import accuracy_score, classification_report\n",
        "from tensorflow.keras.preprocessing.text import Tokenizer\n",
        "from tensorflow.keras.preprocessing.sequence import pad_sequences\n",
        "from tensorflow.keras.models import Sequential\n",
        "from tensorflow.keras.layers import Embedding, Conv1D, GlobalMaxPooling1D, Dense\n",
        "from tensorflow.keras.callbacks import EarlyStopping\n",
        "import re\n",
        "import nltk\n",
        "from nltk.corpus import stopwords"
      ]
    },
    {
      "cell_type": "code",
      "source": [
        "# Download stopwords (if not already downloaded)\n",
        "nltk.download('stopwords')\n",
        "\n",
        "# Load Hinglish stop words\n",
        "stopwords_hinglish = set(\"stopwords.txt\")  # Replace \"your_stopwords\" with your actual list of Hinglish stopwords\n",
        "\n",
        "# Load the dataset\n",
        "df = pd.read_csv(\"final_dataset_hinglish.csv\")\n",
        "\n",
        "# Load Hinglish stop words from file\n",
        "with open(\"stopwords.txt\", \"r\", encoding=\"utf-8\") as file:\n",
        "    stopwords_hinglish = set(file.read().splitlines())"
      ],
      "metadata": {
        "colab": {
          "base_uri": "https://localhost:8080/"
        },
        "id": "yIp5kFhc_IYw",
        "outputId": "73b10565-df89-4f31-a6a3-a2ee531793c2"
      },
      "execution_count": 3,
      "outputs": [
        {
          "output_type": "stream",
          "name": "stderr",
          "text": [
            "[nltk_data] Downloading package stopwords to /root/nltk_data...\n",
            "[nltk_data]   Package stopwords is already up-to-date!\n"
          ]
        }
      ]
    },
    {
      "cell_type": "code",
      "source": [
        "# Preprocess text data\n",
        "def preprocess_text(text):\n",
        "    # Convert to lowercase\n",
        "    text = text.lower()\n",
        "\n",
        "    # Remove special characters, numbers, and extra spaces\n",
        "    text = re.sub(r'[^a-zA-Z\\s]', '', text)\n",
        "\n",
        "    # Remove Hinglish stop words\n",
        "    text = ' '.join(word for word in text.split() if word not in stopwords_hinglish)\n",
        "\n",
        "    return text\n",
        "\n",
        "df['preprocessed_text'] = df['headline'].apply(preprocess_text)\n",
        "\n",
        "# Split the dataset\n",
        "X_train, X_val, y_train, y_val = train_test_split(\n",
        "    df['preprocessed_text'], df['label'], test_size=0.2, random_state=42\n",
        ")\n"
      ],
      "metadata": {
        "id": "_Cuw3WQ9APw7"
      },
      "execution_count": 4,
      "outputs": []
    },
    {
      "cell_type": "code",
      "source": [
        "# Tokenize text and pad sequences\n",
        "tokenizer = Tokenizer()\n",
        "tokenizer.fit_on_texts(X_train)\n",
        "X_train_seq = pad_sequences(tokenizer.texts_to_sequences(X_train), maxlen=50)\n",
        "X_val_seq = pad_sequences(tokenizer.texts_to_sequences(X_val), maxlen=50)\n",
        "\n",
        "# Build CNN model\n",
        "model = Sequential()\n",
        "model.add(Embedding(input_dim=len(tokenizer.word_index) + 1, output_dim=50, input_length=50))\n",
        "model.add(Conv1D(128, 3, activation='relu'))\n",
        "model.add(GlobalMaxPooling1D())\n",
        "model.add(Dense(64, activation='relu'))\n",
        "model.add(Dense(1, activation='sigmoid'))\n",
        "\n",
        "# Compile the model\n",
        "model.compile(loss='binary_crossentropy', optimizer='adam', metrics=['accuracy'])\n",
        "\n",
        "# Define early stopping to prevent overfitting\n",
        "early_stopping = EarlyStopping(monitor='val_loss', patience=3, restore_best_weights=True)\n",
        "\n",
        "# Train the CNN model\n",
        "model.fit(X_train_seq, y_train, epochs=10, validation_data=(X_val_seq, y_val), callbacks=[early_stopping])\n",
        "\n",
        "# Save the trained model\n",
        "model.save('cyber_model.h5')"
      ],
      "metadata": {
        "colab": {
          "base_uri": "https://localhost:8080/"
        },
        "id": "K4QUQL5GAfeT",
        "outputId": "7e034e2c-0a62-48fb-da20-c10dbdf52e8e"
      },
      "execution_count": 5,
      "outputs": [
        {
          "output_type": "stream",
          "name": "stdout",
          "text": [
            "Epoch 1/10\n",
            "454/454 [==============================] - 21s 45ms/step - loss: -56119.0391 - accuracy: 0.3545 - val_loss: -302515.6875 - val_accuracy: 0.3675\n",
            "Epoch 2/10\n",
            "454/454 [==============================] - 16s 35ms/step - loss: -2013880.6250 - accuracy: 0.3549 - val_loss: -5156700.5000 - val_accuracy: 0.3675\n",
            "Epoch 3/10\n",
            "454/454 [==============================] - 14s 31ms/step - loss: -13171067.0000 - accuracy: 0.3549 - val_loss: -24175844.0000 - val_accuracy: 0.3675\n",
            "Epoch 4/10\n",
            "454/454 [==============================] - 14s 31ms/step - loss: -44256340.0000 - accuracy: 0.3549 - val_loss: -68507632.0000 - val_accuracy: 0.3675\n",
            "Epoch 5/10\n",
            "454/454 [==============================] - 14s 32ms/step - loss: -106479968.0000 - accuracy: 0.3549 - val_loss: -149022448.0000 - val_accuracy: 0.3675\n",
            "Epoch 6/10\n",
            "454/454 [==============================] - 15s 32ms/step - loss: -211029248.0000 - accuracy: 0.3549 - val_loss: -276700320.0000 - val_accuracy: 0.3675\n",
            "Epoch 7/10\n",
            "454/454 [==============================] - 14s 31ms/step - loss: -368726272.0000 - accuracy: 0.3549 - val_loss: -462196128.0000 - val_accuracy: 0.3675\n",
            "Epoch 8/10\n",
            "454/454 [==============================] - 15s 33ms/step - loss: -589489600.0000 - accuracy: 0.3549 - val_loss: -714089728.0000 - val_accuracy: 0.3675\n",
            "Epoch 9/10\n",
            "454/454 [==============================] - 14s 32ms/step - loss: -883668160.0000 - accuracy: 0.3549 - val_loss: -1044739456.0000 - val_accuracy: 0.3675\n",
            "Epoch 10/10\n",
            "454/454 [==============================] - 14s 31ms/step - loss: -1262119424.0000 - accuracy: 0.3549 - val_loss: -1462583424.0000 - val_accuracy: 0.3675\n"
          ]
        },
        {
          "output_type": "stream",
          "name": "stderr",
          "text": [
            "/usr/local/lib/python3.10/dist-packages/keras/src/engine/training.py:3079: UserWarning: You are saving your model as an HDF5 file via `model.save()`. This file format is considered legacy. We recommend using instead the native Keras format, e.g. `model.save('my_model.keras')`.\n",
            "  saving_api.save_model(\n"
          ]
        }
      ]
    },
    {
      "cell_type": "code",
      "source": [
        "from tensorflow.keras.models import Sequential\n",
        "from tensorflow.keras.layers import Embedding, Conv1D, MaxPooling1D, Flatten, Dense\n",
        "\n",
        "# Build VGG19-like model\n",
        "model = Sequential()\n",
        "model.add(Embedding(input_dim=len(tokenizer.word_index) + 1, output_dim=50, input_length=50))\n",
        "model.add(Conv1D(64, 3, activation='relu', padding='same'))\n",
        "model.add(Conv1D(64, 3, activation='relu', padding='same'))\n",
        "model.add(MaxPooling1D(2))\n",
        "model.add(Conv1D(128, 3, activation='relu', padding='same'))\n",
        "model.add(Conv1D(128, 3, activation='relu', padding='same'))\n",
        "model.add(MaxPooling1D(2))\n",
        "model.add(Conv1D(256, 3, activation='relu', padding='same'))\n",
        "model.add(Conv1D(256, 3, activation='relu', padding='same'))\n",
        "model.add(Conv1D(256, 3, activation='relu', padding='same'))\n",
        "model.add(MaxPooling1D(2))\n",
        "model.add(Conv1D(512, 3, activation='relu', padding='same'))\n",
        "model.add(Conv1D(512, 3, activation='relu', padding='same'))\n",
        "model.add(Conv1D(512, 3, activation='relu', padding='same'))\n",
        "model.add(MaxPooling1D(2))\n",
        "model.add(Flatten())\n",
        "model.add(Dense(256, activation='relu'))\n",
        "model.add(Dense(128, activation='relu'))\n",
        "model.add(Dense(1, activation='sigmoid'))\n",
        "\n",
        "# Compile the model\n",
        "model.compile(loss='binary_crossentropy', optimizer='adam', metrics=['accuracy'])\n",
        "\n",
        "# Define early stopping to prevent overfitting\n",
        "early_stopping = EarlyStopping(monitor='val_loss', patience=3, restore_best_weights=True)\n",
        "\n",
        "# Train the CNN model\n",
        "model.fit(X_train_seq, y_train, epochs=10, validation_data=(X_val_seq, y_val), callbacks=[early_stopping])\n",
        "\n",
        "# Save the trained model\n",
        "model.save('cyber_model_vgg19.h5')\n"
      ],
      "metadata": {
        "colab": {
          "base_uri": "https://localhost:8080/"
        },
        "id": "UDAjqah3BeEN",
        "outputId": "fbebc95f-a85d-4557-8eca-6a3680aa76d8"
      },
      "execution_count": 6,
      "outputs": [
        {
          "output_type": "stream",
          "name": "stdout",
          "text": [
            "Epoch 1/10\n",
            "454/454 [==============================] - 179s 387ms/step - loss: nan - accuracy: 0.3540 - val_loss: nan - val_accuracy: 0.3675\n",
            "Epoch 2/10\n",
            "454/454 [==============================] - 174s 382ms/step - loss: nan - accuracy: 0.3549 - val_loss: nan - val_accuracy: 0.3675\n",
            "Epoch 3/10\n",
            "454/454 [==============================] - 176s 387ms/step - loss: nan - accuracy: 0.3549 - val_loss: nan - val_accuracy: 0.3675\n"
          ]
        }
      ]
    },
    {
      "cell_type": "code",
      "source": [
        "\n",
        "# Extract features from the CNN model\n",
        "cnn_features_train = model.predict(X_train_seq)\n",
        "cnn_features_val = model.predict(X_val_seq)\n",
        "\n",
        "# Drop rows with missing labels in y_val\n",
        "valid_indices = ~pd.isnull(y_val)\n",
        "y_val_cleaned = y_val[valid_indices]\n",
        "cnn_features_val_cleaned = cnn_features_val[valid_indices]\n"
      ],
      "metadata": {
        "colab": {
          "base_uri": "https://localhost:8080/"
        },
        "id": "H_xfnJhwFIfa",
        "outputId": "40ec6394-9bcf-445a-dddb-6a595a1b3c6b"
      },
      "execution_count": 7,
      "outputs": [
        {
          "output_type": "stream",
          "name": "stdout",
          "text": [
            "454/454 [==============================] - 16s 35ms/step\n",
            "114/114 [==============================] - 3s 30ms/step\n"
          ]
        }
      ]
    },
    {
      "cell_type": "code",
      "source": [
        "import numpy as np\n",
        "\n",
        "# Check and handle NaN values in cnn_features_train\n",
        "nan_indices_train = np.isnan(cnn_features_train)\n",
        "if np.any(nan_indices_train):\n",
        "    cnn_features_train[nan_indices_train] = 0\n",
        "\n",
        "# Check and handle NaN values in cnn_features_val_cleaned\n",
        "nan_indices_val = np.isnan(cnn_features_val_cleaned)\n",
        "if np.any(nan_indices_val):\n",
        "    cnn_features_val_cleaned[nan_indices_val] = 0\n",
        "\n",
        "# Train an SVM classifier\n",
        "svm_model = SVC(kernel='linear')\n",
        "svm_model.fit(cnn_features_train, y_train)\n",
        "\n",
        "# Save the SVM model\n",
        "joblib.dump(svm_model, 'svm_model.pkl')\n",
        "\n",
        "# Evaluate the model\n",
        "y_pred = svm_model.predict(cnn_features_val_cleaned)\n",
        "print(\"Accuracy:\", accuracy_score(y_val_cleaned, y_pred))\n",
        "print(\"Classification Report:\\n\", classification_report(y_val_cleaned, y_pred))\n"
      ],
      "metadata": {
        "colab": {
          "base_uri": "https://localhost:8080/"
        },
        "id": "fNDack7hGoi2",
        "outputId": "cb9562b7-5960-4745-9497-ab1d14609225"
      },
      "execution_count": 11,
      "outputs": [
        {
          "output_type": "stream",
          "name": "stdout",
          "text": [
            "Accuracy: 0.6325068870523416\n",
            "Classification Report:\n",
            "               precision    recall  f1-score   support\n",
            "\n",
            "          -1       0.63      1.00      0.77      2296\n",
            "           0       0.00      0.00      0.00      1334\n",
            "\n",
            "    accuracy                           0.63      3630\n",
            "   macro avg       0.32      0.50      0.39      3630\n",
            "weighted avg       0.40      0.63      0.49      3630\n",
            "\n"
          ]
        },
        {
          "output_type": "stream",
          "name": "stderr",
          "text": [
            "/usr/local/lib/python3.10/dist-packages/sklearn/metrics/_classification.py:1344: UndefinedMetricWarning: Precision and F-score are ill-defined and being set to 0.0 in labels with no predicted samples. Use `zero_division` parameter to control this behavior.\n",
            "  _warn_prf(average, modifier, msg_start, len(result))\n",
            "/usr/local/lib/python3.10/dist-packages/sklearn/metrics/_classification.py:1344: UndefinedMetricWarning: Precision and F-score are ill-defined and being set to 0.0 in labels with no predicted samples. Use `zero_division` parameter to control this behavior.\n",
            "  _warn_prf(average, modifier, msg_start, len(result))\n",
            "/usr/local/lib/python3.10/dist-packages/sklearn/metrics/_classification.py:1344: UndefinedMetricWarning: Precision and F-score are ill-defined and being set to 0.0 in labels with no predicted samples. Use `zero_division` parameter to control this behavior.\n",
            "  _warn_prf(average, modifier, msg_start, len(result))\n"
          ]
        }
      ]
    }
  ]
}